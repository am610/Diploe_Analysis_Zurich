{
 "cells": [
  {
   "cell_type": "code",
   "execution_count": 1,
   "id": "91678fc4",
   "metadata": {},
   "outputs": [
    {
     "name": "stderr",
     "output_type": "stream",
     "text": [
      "/Users/ayan/anaconda3/lib/python3.11/site-packages/pandas/core/arrays/masked.py:60: UserWarning: Pandas requires version '1.3.6' or newer of 'bottleneck' (version '1.3.5' currently installed).\n",
      "  from pandas.core import (\n"
     ]
    }
   ],
   "source": [
    "import numpy as np\n",
    "import pandas as pd \n",
    "import matplotlib.pyplot as plt "
   ]
  },
  {
   "cell_type": "code",
   "execution_count": 2,
   "id": "db7e471f",
   "metadata": {},
   "outputs": [
    {
     "name": "stdout",
     "output_type": "stream",
     "text": [
      "/Users/ayan/Programs/U_Geneva_Francesco/Folder_12_Pve_Def_Pass\r\n"
     ]
    }
   ],
   "source": [
    "! pwd"
   ]
  },
  {
   "cell_type": "code",
   "execution_count": 3,
   "id": "0ffba160",
   "metadata": {},
   "outputs": [],
   "source": [
    "def is_positive_definite(C, tol=1e-14):\n",
    "    \"\"\"\n",
    "    Returns True if all eigenvalues of (the symmetric part of) C \n",
    "    are greater than 'tol'.\n",
    "    \"\"\"\n",
    "    # Symmetrize to avoid issues with small numerical asymmetries\n",
    "    C_sym = 0.5 * (C + C.T)\n",
    "    eigenvals = np.linalg.eigvalsh(C_sym)\n",
    "    return np.all(eigenvals > tol)\n",
    "\n",
    "\n",
    "def read_covariance_matrix(file_path):\n",
    "    with open(file_path, 'r') as file:\n",
    "        # Read the size of the matrix\n",
    "        n = int(file.readline().strip())\n",
    "        \n",
    "        # Initialize a placeholder for the matrix values\n",
    "        matrix_values = []\n",
    "        \n",
    "        # Read the rest of the file line by line\n",
    "        for line in file:\n",
    "            # Split by '#' to separate value and comment\n",
    "            value = line.split('#')[0].strip()\n",
    "            if value:  # If there's a value present, add it\n",
    "                matrix_values.append(float(value))\n",
    "        \n",
    "        # Ensure we have the correct number of values\n",
    "        assert len(matrix_values) == n * n, \"Matrix size mismatch!\"\n",
    "        \n",
    "        # Reconstruct the matrix as a 2D list\n",
    "        matrix = [matrix_values[i * n:(i + 1) * n] for i in range(n)]\n",
    "        \n",
    "        return matrix\n",
    "\n",
    "    \n",
    "    \n",
    "### Eigen value clipping\n",
    "\n",
    "def symmetrize(C):\n",
    "    return 0.5 * (C + C.T)\n",
    "\n",
    "def clip_eigenvalues(C, min_eigval=1e-12):\n",
    "    \"\"\"\n",
    "    Force any eigenvalues of C below 'min_eigval' to be set to 'min_eigval',\n",
    "    ensuring the matrix is (at least) positive definite.\n",
    "    \"\"\"\n",
    "    # Symmetrize first to avoid small asymmetries\n",
    "    C_sym = symmetrize(C)\n",
    "    eigvals, eigvecs = np.linalg.eigh(C_sym)\n",
    "    \n",
    "    # Clip eigenvalues\n",
    "    clipped_eigvals = np.maximum(eigvals, min_eigval)\n",
    "    \n",
    "    # Reconstruct\n",
    "    C_clipped = eigvecs @ np.diag(clipped_eigvals) @ eigvecs.T\n",
    "    return C_clipped\n",
    "\n",
    "\n",
    "# Frobenius change test\n",
    "# < 1% change on global difference is ok\n",
    "\n",
    "def relative_frobenius_change(C_orig, C_clipped):\n",
    "    diff = C_clipped - C_orig\n",
    "    return np.linalg.norm(diff, ord='fro') / np.linalg.norm(C_orig, ord='fro')\n",
    "\n",
    "\n",
    "# save output\n",
    "\n",
    "def write_covariance_matrix(file_path, cov_matrix):\n",
    "    \"\"\"\n",
    "    Writes the covariance matrix to file in the format:\n",
    "      - First line: n (matrix dimension)\n",
    "      - Then n*n lines: each matrix element (row by row).\n",
    "    \"\"\"\n",
    "    n = cov_matrix.shape[0]\n",
    "    with open(file_path, 'w') as file:\n",
    "        # Write the dimension\n",
    "        file.write(str(n) + \"\\n\")\n",
    "        \n",
    "        # Write the matrix entries\n",
    "        for i in range(n):\n",
    "            for j in range(n):\n",
    "                # You can adjust the formatting to your preference:\n",
    "                # e.g., \"{:.6e}\" for scientific notation with 6 decimal places\n",
    "                file.write(f\"{cov_matrix[i, j]:.6e}\\n\")\n",
    "\n",
    "## Diagonal shift tests\n",
    "# further to decide the shift we examing the diagonal value and thier scale\n",
    "def suggest_alpha(cov_matrix, fraction=1e-6):\n",
    "    # Quick guess of scale based on median diagonal\n",
    "    diag_vals = np.diag(cov_matrix)\n",
    "    median_diag = np.median(diag_vals)\n",
    "    if median_diag <= 0:\n",
    "        # fallback: use absolute value or some default\n",
    "        median_diag = np.mean(np.abs(diag_vals))\n",
    "    return fraction * median_diag\n",
    "\n",
    "# Diagonal shifting\n",
    "def add_diagonal_shift(C, alpha=3.4529999999999996e-11):\n",
    "    \"\"\"\n",
    "    Adds alpha * I to the matrix C. \n",
    "    This pushes all eigenvalues up by alpha.\n",
    "    \"\"\"\n",
    "    n = C.shape[0]\n",
    "    return C + alpha * np.eye(n)\n"
   ]
  },
  {
   "cell_type": "code",
   "execution_count": 6,
   "id": "719b7f0b",
   "metadata": {},
   "outputs": [],
   "source": [
    "file_path = 'covsys_000.txt'"
   ]
  },
  {
   "cell_type": "code",
   "execution_count": 7,
   "id": "94c3531d",
   "metadata": {},
   "outputs": [
    {
     "name": "stdout",
     "output_type": "stream",
     "text": [
      "Shape of the covariance matrix: (5678, 5678)\n",
      "Matrix is NOT positive definite.\n"
     ]
    }
   ],
   "source": [
    "# Use the function to read the covariance matrix\n",
    "cov_matrix_list = read_covariance_matrix(file_path)\n",
    "\n",
    "# Convert the list-of-lists to a NumPy array\n",
    "cov_matrix = np.array(cov_matrix_list, dtype=float)\n",
    "print(\"Shape of the covariance matrix:\", cov_matrix.shape)\n",
    "\n",
    "# Check if your matrix is positive definite\n",
    "if is_positive_definite(cov_matrix):\n",
    "    print(\"Matrix is already positive definite.\")\n",
    "else:\n",
    "    print(\"Matrix is NOT positive definite.\")\n"
   ]
  },
  {
   "cell_type": "code",
   "execution_count": 18,
   "id": "6217257f",
   "metadata": {},
   "outputs": [
    {
     "name": "stdout",
     "output_type": "stream",
     "text": [
      "  VARNAMES:     CID  IDSURVEY     zCMB     zHEL        MU   MUERR  MUERR_VPEC  \\\n",
      "0       SN:  103327        50  0.01995  0.01995  34.89055  0.1317      0.0733   \n",
      "1       SN:   94200        50  0.02209  0.02209  34.83914  0.1237      0.0663   \n",
      "\n",
      "   MUERR_SYS    HOST_RA   HOST_DEC  \n",
      "0    0.00646  55.591831 -32.440624  \n",
      "1    0.00595  55.045319 -32.409492  \n",
      "\n",
      "\n",
      " Shape =  (5678, 11)\n"
     ]
    }
   ],
   "source": [
    "## Checking the corresponding Hubble diagram is correct( by checking dimensions)\n",
    "hd = pd.read_csv('output_hubble_diagram.txt',comment='#',sep='\\s+')\n",
    "print(hd.head(2))\n",
    "print('\\n\\n Shape = ',np.shape(hd))"
   ]
  },
  {
   "cell_type": "markdown",
   "id": "2fada0cb",
   "metadata": {},
   "source": [
    "## Repairing the Matrix\n",
    "\n",
    "### Eignevalue clipping"
   ]
  },
  {
   "cell_type": "code",
   "execution_count": 8,
   "id": "3a8a3217",
   "metadata": {},
   "outputs": [
    {
     "name": "stdout",
     "output_type": "stream",
     "text": [
      "Is fixed_cov_matrix positive definite? True\n",
      "Relative Frobenius change: 2.300731520299082e-06\n"
     ]
    }
   ],
   "source": [
    "fixed_cov_matrix = clip_eigenvalues(cov_matrix, min_eigval=1e-10)\n",
    "print(\"Is fixed_cov_matrix positive definite?\", is_positive_definite(fixed_cov_matrix))\n",
    "\n",
    "\n",
    "rel_change = relative_frobenius_change(cov_matrix, fixed_cov_matrix)\n",
    "print(\"Relative Frobenius change:\", rel_change)\n"
   ]
  },
  {
   "cell_type": "markdown",
   "id": "fc2c5e48",
   "metadata": {},
   "source": [
    "#### This method works and the change is << 1%, so it is safe to apply this correction"
   ]
  },
  {
   "cell_type": "markdown",
   "id": "2f8b1149",
   "metadata": {},
   "source": [
    "#### Diagonal shifting\n",
    "#### We will not use this method but keep it for future reference"
   ]
  },
  {
   "cell_type": "code",
   "execution_count": 9,
   "id": "f956d30a",
   "metadata": {},
   "outputs": [
    {
     "name": "stdout",
     "output_type": "stream",
     "text": [
      "Proposed alpha = 3.478e-11\n",
      "Is shifted_cov_matrix positive definite? False\n"
     ]
    }
   ],
   "source": [
    "alpha_guess = suggest_alpha(cov_matrix, fraction=1e-6)\n",
    "print(\"Proposed alpha =\", alpha_guess)\n",
    "\n",
    "# Example usage:\n",
    "alpha = 1e-8\n",
    "shifted_cov_matrix = add_diagonal_shift(cov_matrix, alpha=alpha)\n",
    "print(\"Is shifted_cov_matrix positive definite?\", is_positive_definite(shifted_cov_matrix))\n"
   ]
  },
  {
   "cell_type": "markdown",
   "id": "e12810e6",
   "metadata": {},
   "source": [
    "## Save output"
   ]
  },
  {
   "cell_type": "code",
   "execution_count": 10,
   "id": "63dddb30",
   "metadata": {},
   "outputs": [
    {
     "name": "stdout",
     "output_type": "stream",
     "text": [
      "Saved fixed covariance to covsys_000_fixed.txt\n"
     ]
    }
   ],
   "source": [
    "output_file = \"covsys_000_fixed.txt\"\n",
    "write_covariance_matrix(output_file, fixed_cov_matrix) # Saving the Eigenvalue clipped matrix\n",
    "print(f\"Saved fixed covariance to {output_file}\")"
   ]
  },
  {
   "cell_type": "code",
   "execution_count": null,
   "id": "3b3de5c7",
   "metadata": {},
   "outputs": [],
   "source": []
  }
 ],
 "metadata": {
  "kernelspec": {
   "display_name": "Python 3 (ipykernel)",
   "language": "python",
   "name": "python3"
  },
  "language_info": {
   "codemirror_mode": {
    "name": "ipython",
    "version": 3
   },
   "file_extension": ".py",
   "mimetype": "text/x-python",
   "name": "python",
   "nbconvert_exporter": "python",
   "pygments_lexer": "ipython3",
   "version": "3.11.5"
  }
 },
 "nbformat": 4,
 "nbformat_minor": 5
}
